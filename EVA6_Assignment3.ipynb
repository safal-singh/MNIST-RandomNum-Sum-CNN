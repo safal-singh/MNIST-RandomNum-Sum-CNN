{
  "nbformat": 4,
  "nbformat_minor": 0,
  "metadata": {
    "accelerator": "GPU",
    "colab": {
      "name": "EVA6_Assignment3.ipynb",
      "provenance": [],
      "collapsed_sections": [],
      "authorship_tag": "ABX9TyMcjhZ+Go6BXK4w7S5LJLJG",
      "include_colab_link": true
    },
    "kernelspec": {
      "display_name": "Python 3",
      "name": "python3"
    },
    "language_info": {
      "name": "python"
    },
    "widgets": {
      "application/vnd.jupyter.widget-state+json": {
        "3aae3868930c431298369386731194f8": {
          "model_module": "@jupyter-widgets/controls",
          "model_name": "HBoxModel",
          "state": {
            "_view_name": "HBoxView",
            "_dom_classes": [],
            "_model_name": "HBoxModel",
            "_view_module": "@jupyter-widgets/controls",
            "_model_module_version": "1.5.0",
            "_view_count": null,
            "_view_module_version": "1.5.0",
            "box_style": "",
            "layout": "IPY_MODEL_22a44b0d46d84618a8eb8fdb0c509820",
            "_model_module": "@jupyter-widgets/controls",
            "children": [
              "IPY_MODEL_11215abd65384a1794c8cd93a77c447d",
              "IPY_MODEL_1f8dabc0091c49f5a3d6eecfea6cd5e4"
            ]
          }
        },
        "22a44b0d46d84618a8eb8fdb0c509820": {
          "model_module": "@jupyter-widgets/base",
          "model_name": "LayoutModel",
          "state": {
            "_view_name": "LayoutView",
            "grid_template_rows": null,
            "right": null,
            "justify_content": null,
            "_view_module": "@jupyter-widgets/base",
            "overflow": null,
            "_model_module_version": "1.2.0",
            "_view_count": null,
            "flex_flow": null,
            "width": null,
            "min_width": null,
            "border": null,
            "align_items": null,
            "bottom": null,
            "_model_module": "@jupyter-widgets/base",
            "top": null,
            "grid_column": null,
            "overflow_y": null,
            "overflow_x": null,
            "grid_auto_flow": null,
            "grid_area": null,
            "grid_template_columns": null,
            "flex": null,
            "_model_name": "LayoutModel",
            "justify_items": null,
            "grid_row": null,
            "max_height": null,
            "align_content": null,
            "visibility": null,
            "align_self": null,
            "height": null,
            "min_height": null,
            "padding": null,
            "grid_auto_rows": null,
            "grid_gap": null,
            "max_width": null,
            "order": null,
            "_view_module_version": "1.2.0",
            "grid_template_areas": null,
            "object_position": null,
            "object_fit": null,
            "grid_auto_columns": null,
            "margin": null,
            "display": null,
            "left": null
          }
        },
        "11215abd65384a1794c8cd93a77c447d": {
          "model_module": "@jupyter-widgets/controls",
          "model_name": "FloatProgressModel",
          "state": {
            "_view_name": "ProgressView",
            "style": "IPY_MODEL_fd8ae8eb89a14a8ca4c85ebf861880bb",
            "_dom_classes": [],
            "description": "",
            "_model_name": "FloatProgressModel",
            "bar_style": "success",
            "max": 1648877,
            "_view_module": "@jupyter-widgets/controls",
            "_model_module_version": "1.5.0",
            "value": 1648877,
            "_view_count": null,
            "_view_module_version": "1.5.0",
            "orientation": "horizontal",
            "min": 0,
            "description_tooltip": null,
            "_model_module": "@jupyter-widgets/controls",
            "layout": "IPY_MODEL_26676320dec04fa0829038b7e9fd94a5"
          }
        },
        "1f8dabc0091c49f5a3d6eecfea6cd5e4": {
          "model_module": "@jupyter-widgets/controls",
          "model_name": "HTMLModel",
          "state": {
            "_view_name": "HTMLView",
            "style": "IPY_MODEL_e6061a7b9c57469da4a6ea50884963ea",
            "_dom_classes": [],
            "description": "",
            "_model_name": "HTMLModel",
            "placeholder": "​",
            "_view_module": "@jupyter-widgets/controls",
            "_model_module_version": "1.5.0",
            "value": " 1649664/? [15:38&lt;00:00, 1757.04it/s]",
            "_view_count": null,
            "_view_module_version": "1.5.0",
            "description_tooltip": null,
            "_model_module": "@jupyter-widgets/controls",
            "layout": "IPY_MODEL_fe59f484dccb45b4ada2f773a4042bc2"
          }
        },
        "fd8ae8eb89a14a8ca4c85ebf861880bb": {
          "model_module": "@jupyter-widgets/controls",
          "model_name": "ProgressStyleModel",
          "state": {
            "_view_name": "StyleView",
            "_model_name": "ProgressStyleModel",
            "description_width": "initial",
            "_view_module": "@jupyter-widgets/base",
            "_model_module_version": "1.5.0",
            "_view_count": null,
            "_view_module_version": "1.2.0",
            "bar_color": null,
            "_model_module": "@jupyter-widgets/controls"
          }
        },
        "26676320dec04fa0829038b7e9fd94a5": {
          "model_module": "@jupyter-widgets/base",
          "model_name": "LayoutModel",
          "state": {
            "_view_name": "LayoutView",
            "grid_template_rows": null,
            "right": null,
            "justify_content": null,
            "_view_module": "@jupyter-widgets/base",
            "overflow": null,
            "_model_module_version": "1.2.0",
            "_view_count": null,
            "flex_flow": null,
            "width": null,
            "min_width": null,
            "border": null,
            "align_items": null,
            "bottom": null,
            "_model_module": "@jupyter-widgets/base",
            "top": null,
            "grid_column": null,
            "overflow_y": null,
            "overflow_x": null,
            "grid_auto_flow": null,
            "grid_area": null,
            "grid_template_columns": null,
            "flex": null,
            "_model_name": "LayoutModel",
            "justify_items": null,
            "grid_row": null,
            "max_height": null,
            "align_content": null,
            "visibility": null,
            "align_self": null,
            "height": null,
            "min_height": null,
            "padding": null,
            "grid_auto_rows": null,
            "grid_gap": null,
            "max_width": null,
            "order": null,
            "_view_module_version": "1.2.0",
            "grid_template_areas": null,
            "object_position": null,
            "object_fit": null,
            "grid_auto_columns": null,
            "margin": null,
            "display": null,
            "left": null
          }
        },
        "e6061a7b9c57469da4a6ea50884963ea": {
          "model_module": "@jupyter-widgets/controls",
          "model_name": "DescriptionStyleModel",
          "state": {
            "_view_name": "StyleView",
            "_model_name": "DescriptionStyleModel",
            "description_width": "",
            "_view_module": "@jupyter-widgets/base",
            "_model_module_version": "1.5.0",
            "_view_count": null,
            "_view_module_version": "1.2.0",
            "_model_module": "@jupyter-widgets/controls"
          }
        },
        "fe59f484dccb45b4ada2f773a4042bc2": {
          "model_module": "@jupyter-widgets/base",
          "model_name": "LayoutModel",
          "state": {
            "_view_name": "LayoutView",
            "grid_template_rows": null,
            "right": null,
            "justify_content": null,
            "_view_module": "@jupyter-widgets/base",
            "overflow": null,
            "_model_module_version": "1.2.0",
            "_view_count": null,
            "flex_flow": null,
            "width": null,
            "min_width": null,
            "border": null,
            "align_items": null,
            "bottom": null,
            "_model_module": "@jupyter-widgets/base",
            "top": null,
            "grid_column": null,
            "overflow_y": null,
            "overflow_x": null,
            "grid_auto_flow": null,
            "grid_area": null,
            "grid_template_columns": null,
            "flex": null,
            "_model_name": "LayoutModel",
            "justify_items": null,
            "grid_row": null,
            "max_height": null,
            "align_content": null,
            "visibility": null,
            "align_self": null,
            "height": null,
            "min_height": null,
            "padding": null,
            "grid_auto_rows": null,
            "grid_gap": null,
            "max_width": null,
            "order": null,
            "_view_module_version": "1.2.0",
            "grid_template_areas": null,
            "object_position": null,
            "object_fit": null,
            "grid_auto_columns": null,
            "margin": null,
            "display": null,
            "left": null
          }
        },
        "1d96d74b7c8443f794edfa063ce7fef5": {
          "model_module": "@jupyter-widgets/controls",
          "model_name": "HBoxModel",
          "state": {
            "_view_name": "HBoxView",
            "_dom_classes": [],
            "_model_name": "HBoxModel",
            "_view_module": "@jupyter-widgets/controls",
            "_model_module_version": "1.5.0",
            "_view_count": null,
            "_view_module_version": "1.5.0",
            "box_style": "",
            "layout": "IPY_MODEL_5815618c166d4f8e993154f563d1a943",
            "_model_module": "@jupyter-widgets/controls",
            "children": [
              "IPY_MODEL_0c0c73e32c6f46578735909fdde4daad",
              "IPY_MODEL_0cc7250a6a3543c5a70a078df3da5d06"
            ]
          }
        },
        "5815618c166d4f8e993154f563d1a943": {
          "model_module": "@jupyter-widgets/base",
          "model_name": "LayoutModel",
          "state": {
            "_view_name": "LayoutView",
            "grid_template_rows": null,
            "right": null,
            "justify_content": null,
            "_view_module": "@jupyter-widgets/base",
            "overflow": null,
            "_model_module_version": "1.2.0",
            "_view_count": null,
            "flex_flow": null,
            "width": null,
            "min_width": null,
            "border": null,
            "align_items": null,
            "bottom": null,
            "_model_module": "@jupyter-widgets/base",
            "top": null,
            "grid_column": null,
            "overflow_y": null,
            "overflow_x": null,
            "grid_auto_flow": null,
            "grid_area": null,
            "grid_template_columns": null,
            "flex": null,
            "_model_name": "LayoutModel",
            "justify_items": null,
            "grid_row": null,
            "max_height": null,
            "align_content": null,
            "visibility": null,
            "align_self": null,
            "height": null,
            "min_height": null,
            "padding": null,
            "grid_auto_rows": null,
            "grid_gap": null,
            "max_width": null,
            "order": null,
            "_view_module_version": "1.2.0",
            "grid_template_areas": null,
            "object_position": null,
            "object_fit": null,
            "grid_auto_columns": null,
            "margin": null,
            "display": null,
            "left": null
          }
        },
        "0c0c73e32c6f46578735909fdde4daad": {
          "model_module": "@jupyter-widgets/controls",
          "model_name": "FloatProgressModel",
          "state": {
            "_view_name": "ProgressView",
            "style": "IPY_MODEL_95f1730b15264908925bce9833ba92ea",
            "_dom_classes": [],
            "description": "",
            "_model_name": "FloatProgressModel",
            "bar_style": "success",
            "max": 4542,
            "_view_module": "@jupyter-widgets/controls",
            "_model_module_version": "1.5.0",
            "value": 4542,
            "_view_count": null,
            "_view_module_version": "1.5.0",
            "orientation": "horizontal",
            "min": 0,
            "description_tooltip": null,
            "_model_module": "@jupyter-widgets/controls",
            "layout": "IPY_MODEL_22bd8d03c1854b1fa16ef5d1fd665e04"
          }
        },
        "0cc7250a6a3543c5a70a078df3da5d06": {
          "model_module": "@jupyter-widgets/controls",
          "model_name": "HTMLModel",
          "state": {
            "_view_name": "HTMLView",
            "style": "IPY_MODEL_195fa3250d594e60b765781ab8b43da9",
            "_dom_classes": [],
            "description": "",
            "_model_name": "HTMLModel",
            "placeholder": "​",
            "_view_module": "@jupyter-widgets/controls",
            "_model_module_version": "1.5.0",
            "value": " 5120/? [00:05&lt;00:00, 922.92it/s]",
            "_view_count": null,
            "_view_module_version": "1.5.0",
            "description_tooltip": null,
            "_model_module": "@jupyter-widgets/controls",
            "layout": "IPY_MODEL_112b032cddb54e8c8b790cf766c7d267"
          }
        },
        "95f1730b15264908925bce9833ba92ea": {
          "model_module": "@jupyter-widgets/controls",
          "model_name": "ProgressStyleModel",
          "state": {
            "_view_name": "StyleView",
            "_model_name": "ProgressStyleModel",
            "description_width": "initial",
            "_view_module": "@jupyter-widgets/base",
            "_model_module_version": "1.5.0",
            "_view_count": null,
            "_view_module_version": "1.2.0",
            "bar_color": null,
            "_model_module": "@jupyter-widgets/controls"
          }
        },
        "22bd8d03c1854b1fa16ef5d1fd665e04": {
          "model_module": "@jupyter-widgets/base",
          "model_name": "LayoutModel",
          "state": {
            "_view_name": "LayoutView",
            "grid_template_rows": null,
            "right": null,
            "justify_content": null,
            "_view_module": "@jupyter-widgets/base",
            "overflow": null,
            "_model_module_version": "1.2.0",
            "_view_count": null,
            "flex_flow": null,
            "width": null,
            "min_width": null,
            "border": null,
            "align_items": null,
            "bottom": null,
            "_model_module": "@jupyter-widgets/base",
            "top": null,
            "grid_column": null,
            "overflow_y": null,
            "overflow_x": null,
            "grid_auto_flow": null,
            "grid_area": null,
            "grid_template_columns": null,
            "flex": null,
            "_model_name": "LayoutModel",
            "justify_items": null,
            "grid_row": null,
            "max_height": null,
            "align_content": null,
            "visibility": null,
            "align_self": null,
            "height": null,
            "min_height": null,
            "padding": null,
            "grid_auto_rows": null,
            "grid_gap": null,
            "max_width": null,
            "order": null,
            "_view_module_version": "1.2.0",
            "grid_template_areas": null,
            "object_position": null,
            "object_fit": null,
            "grid_auto_columns": null,
            "margin": null,
            "display": null,
            "left": null
          }
        },
        "195fa3250d594e60b765781ab8b43da9": {
          "model_module": "@jupyter-widgets/controls",
          "model_name": "DescriptionStyleModel",
          "state": {
            "_view_name": "StyleView",
            "_model_name": "DescriptionStyleModel",
            "description_width": "",
            "_view_module": "@jupyter-widgets/base",
            "_model_module_version": "1.5.0",
            "_view_count": null,
            "_view_module_version": "1.2.0",
            "_model_module": "@jupyter-widgets/controls"
          }
        },
        "112b032cddb54e8c8b790cf766c7d267": {
          "model_module": "@jupyter-widgets/base",
          "model_name": "LayoutModel",
          "state": {
            "_view_name": "LayoutView",
            "grid_template_rows": null,
            "right": null,
            "justify_content": null,
            "_view_module": "@jupyter-widgets/base",
            "overflow": null,
            "_model_module_version": "1.2.0",
            "_view_count": null,
            "flex_flow": null,
            "width": null,
            "min_width": null,
            "border": null,
            "align_items": null,
            "bottom": null,
            "_model_module": "@jupyter-widgets/base",
            "top": null,
            "grid_column": null,
            "overflow_y": null,
            "overflow_x": null,
            "grid_auto_flow": null,
            "grid_area": null,
            "grid_template_columns": null,
            "flex": null,
            "_model_name": "LayoutModel",
            "justify_items": null,
            "grid_row": null,
            "max_height": null,
            "align_content": null,
            "visibility": null,
            "align_self": null,
            "height": null,
            "min_height": null,
            "padding": null,
            "grid_auto_rows": null,
            "grid_gap": null,
            "max_width": null,
            "order": null,
            "_view_module_version": "1.2.0",
            "grid_template_areas": null,
            "object_position": null,
            "object_fit": null,
            "grid_auto_columns": null,
            "margin": null,
            "display": null,
            "left": null
          }
        }
      }
    }
  },
  "cells": [
    {
      "cell_type": "markdown",
      "metadata": {
        "id": "view-in-github",
        "colab_type": "text"
      },
      "source": [
        "<a href=\"https://colab.research.google.com/github/safal-singh/MNIST-Sum-CNN/blob/main/EVA6_Assignment3.ipynb\" target=\"_parent\"><img src=\"https://colab.research.google.com/assets/colab-badge.svg\" alt=\"Open In Colab\"/></a>"
      ]
    },
    {
      "cell_type": "code",
      "metadata": {
        "id": "di7V7hi7q1pJ"
      },
      "source": [
        "import torch\n",
        "import torchvision # provide access to datasets, models, transforms, utils, etc\n",
        "import torchvision.transforms as transforms\n",
        "from torch.utils.data import Dataset\n",
        "import torch.nn.functional as F\n",
        "import torch.nn as nn\n",
        "import torch.optim as optim\n",
        "\n",
        "import numpy as np\n",
        "import random"
      ],
      "execution_count": null,
      "outputs": []
    },
    {
      "cell_type": "code",
      "metadata": {
        "id": "0eMdeoarr2D6"
      },
      "source": [
        "class CustomDataset(Dataset):\n",
        "  def __init__(self):\n",
        "    self.data = torchvision.datasets.MNIST(\n",
        "        root='./data'\n",
        "        ,train=True\n",
        "        ,download=True\n",
        "        ,transform=transforms.Compose([\n",
        "            transforms.ToTensor()\n",
        "        ])\n",
        "    )\n",
        "\n",
        "  def __getitem__(self, index):\n",
        "    r = self.data[index]\n",
        "    image, label = r\n",
        "    random_int = random.randint(0, 9)\n",
        "    one_hot = torch.zeros((10, 1)) #  CREATING ONE-HOT ENCODING FOR THE RANDOM INT GENERATED\n",
        "    one_hot[random_int, ] = 1\n",
        "    return image, one_hot, label, label+random_int\n",
        "\n",
        "  def __len__(self):\n",
        "    return len(self.data)"
      ],
      "execution_count": null,
      "outputs": []
    },
    {
      "cell_type": "code",
      "metadata": {
        "id": "Lolr388L249P"
      },
      "source": [
        "class Net(nn.Module):\n",
        "    def __init__(self):\n",
        "        super(Net, self).__init__()\n",
        "        # Input Block\n",
        "        self.convblock1 = nn.Conv2d(in_channels=1, out_channels=8, kernel_size=(3, 3), padding=0, bias=False) # output_size = 26\n",
        "  \n",
        "        # CONVOLUTION BLOCK 1\n",
        "        self.convblock2 = nn.Conv2d(in_channels=8, out_channels=10, kernel_size=(3, 3), padding=0, bias=False) # output_size = 24\n",
        "        \n",
        "        self.convblock3 = nn.Conv2d(in_channels=10, out_channels=10, kernel_size=(3, 3), padding=0, bias=False) # output_size = 22        \n",
        "\n",
        "        # TRANSITION BLOCK 1\n",
        "        self.pool1 = nn.MaxPool2d(2, 2) # output_size = 11\n",
        "        self.convblock4 = nn.Conv2d(in_channels=10, out_channels=16, kernel_size=(1, 1), padding=0, bias=False) # output_size = 11\n",
        "\n",
        "        # CONVOLUTION BLOCK 2\n",
        "        self.convblock5 = nn.Conv2d(in_channels=16, out_channels=16, kernel_size=(3, 3), padding=0, bias=False) # output_size = 9\n",
        "        \n",
        "        self.convblock6 = nn.Conv2d(in_channels=16, out_channels=10, kernel_size=(3, 3), padding=0, bias=False) # output_size = 7\n",
        "      \n",
        "        self.convblock7 = nn.Conv2d(in_channels=10, out_channels=10, kernel_size=(7, 7), padding=0, bias=False) # output_size = 1\n",
        "\n",
        "        self.convblock8 = nn.Conv2d(in_channels=2, out_channels=10, kernel_size=(3, 1)) # input-10x1x2, output - 8x1x10\n",
        "\n",
        "        self.convblock9 = nn.Conv2d(in_channels=10, out_channels=25, kernel_size=(3, 1)) # input-10x1x2, output - 6x1x20\n",
        "\n",
        "        self.convblock10 = nn.Conv2d(in_channels=25, out_channels=19, kernel_size=(6, 1)) # input-10x1x2, output - 8x1x20\n",
        "\n",
        "        # 3 convolutions to combine 10 outputs of conv7, 10 one-hot codes of random int (stacking gives 10x1x2) to classify from 0 to 18 (19 values)\n",
        "\n",
        "    def forward(self, x, random_int):\n",
        "        x = self.convblock1(x)\n",
        "        x = F.relu(x)\n",
        "        x = self.convblock2(x)\n",
        "        x = F.relu(x)\n",
        "        x = self.convblock3(x)\n",
        "        x = F.relu(x)\n",
        "        x = self.pool1(x)\n",
        "        x = self.convblock4(x)\n",
        "        x = F.relu(x)\n",
        "        x = self.convblock5(x)\n",
        "        x = F.relu(x)\n",
        "        x = self.convblock6(x)\n",
        "        x = F.relu(x)\n",
        "        x = self.convblock7(x)\n",
        "        x_mnist = x.view(-1, 10)\n",
        "        mnist_out = F.log_softmax(x_mnist, dim=-1)\n",
        "\n",
        "        # print(f'MNIST CONV SHAPE: {x.shape}')\n",
        "        # print(f'RANDOM INT ONE HOT SHAPE: {random_int.shape}')\n",
        "\n",
        "        # MNIST CONV SHAPE: torch.Size([32, 10, 1, 1])\n",
        "        # RANDOM INT ONE HOT SHAPE: torch.Size([32, 10, 1])\n",
        "\n",
        "        x = torch.cat((x.squeeze().unsqueeze(dim=1).unsqueeze(dim=3), \n",
        "                       random_int.unsqueeze(dim=1)), dim=1)\n",
        "        x = F.relu(x)\n",
        "        x = self.convblock8(x)\n",
        "        x = F.relu(x)\n",
        "        x = self.convblock9(x)\n",
        "        x = F.relu(x)\n",
        "        x = self.convblock10(x)\n",
        "        x = x.view(-1, 19)\n",
        "        sum_out = F.log_softmax(x, dim=-1)\n",
        "\n",
        "        return mnist_out, sum_out"
      ],
      "execution_count": null,
      "outputs": []
    },
    {
      "cell_type": "code",
      "metadata": {
        "colab": {
          "base_uri": "https://localhost:8080/"
        },
        "id": "FBfEeCQeNo-O",
        "outputId": "efb26899-e43b-4960-89ac-62ac4b1af473"
      },
      "source": [
        "net = Net()\n",
        "for name, param in net.named_parameters():\n",
        "  print(name, param.shape)"
      ],
      "execution_count": null,
      "outputs": [
        {
          "output_type": "stream",
          "text": [
            "convblock1.weight torch.Size([8, 1, 3, 3])\n",
            "convblock2.weight torch.Size([10, 8, 3, 3])\n",
            "convblock3.weight torch.Size([10, 10, 3, 3])\n",
            "convblock4.weight torch.Size([16, 10, 1, 1])\n",
            "convblock5.weight torch.Size([16, 16, 3, 3])\n",
            "convblock6.weight torch.Size([10, 16, 3, 3])\n",
            "convblock7.weight torch.Size([10, 10, 7, 7])\n",
            "convblock8.weight torch.Size([10, 2, 3, 1])\n",
            "convblock8.bias torch.Size([10])\n",
            "convblock9.weight torch.Size([25, 10, 3, 1])\n",
            "convblock9.bias torch.Size([25])\n",
            "convblock10.weight torch.Size([19, 25, 6, 1])\n",
            "convblock10.bias torch.Size([19])\n"
          ],
          "name": "stdout"
        }
      ]
    },
    {
      "cell_type": "code",
      "metadata": {
        "id": "Twz_dCclOX_t"
      },
      "source": [
        "network = Net()\n",
        "dt = CustomDataset()\n",
        "\n",
        "train_loader = torch.utils.data.DataLoader(dt\n",
        "    ,batch_size=32\n",
        "    ,shuffle=True\n",
        ")\n",
        "\n",
        "optimizer = optim.Adam(network.parameters(), lr=0.01)"
      ],
      "execution_count": null,
      "outputs": []
    },
    {
      "cell_type": "code",
      "metadata": {
        "id": "N5V53izmSHxs"
      },
      "source": [
        "def get_num_correct(preds, labels, pred_sums, sums):\n",
        "  return (preds.argmax(dim=1).eq(labels) & pred_sums.argmax(dim=1).eq(sums)).sum().item()"
      ],
      "execution_count": 8,
      "outputs": []
    },
    {
      "cell_type": "code",
      "metadata": {
        "colab": {
          "background_save": true
        },
        "id": "KLQ8dIE1OtEn",
        "outputId": "16732478-7f57-4b21-92a6-68a208008d02"
      },
      "source": [
        "# TRAINED WITH ADAM OPTIMIZER, CROSS ENTROPY LOSS\n",
        "for epoch in range(10):\n",
        "\n",
        "    total_loss = 0\n",
        "    total_correct_mnist = 0\n",
        "    total_correct_sum = 0\n",
        "\n",
        "    for batch in train_loader: # Get Batch\n",
        "        images, ints, labels, sums = batch \n",
        "\n",
        "        preds, pred_sums = network(images, ints) # Pass Batch\n",
        "        loss = F.cross_entropy(preds, labels) + F.cross_entropy(pred_sums, sums) # Calculate Loss\n",
        "\n",
        "        optimizer.zero_grad()\n",
        "        loss.backward() # Calculate Gradients\n",
        "        optimizer.step() # Update Weights\n",
        "\n",
        "        total_loss += loss.item()\n",
        "        total_correct_mnist += get_num_correct(preds, labels, pred_sums, sums)\n",
        "        # total_correct_sum += get_num_correct(pred_sums, sums)\n",
        "\n",
        "    print(\n",
        "        \"epoch\", epoch, \n",
        "        \"total_correct:\", total_correct_mnist,\n",
        "        \"train_acc (%):\", total_correct_mnist/600, \n",
        "        \"loss:\", total_loss\n",
        "    )"
      ],
      "execution_count": null,
      "outputs": [
        {
          "output_type": "stream",
          "text": [
            "epoch 0 total_correct: 52755 train_acc: 87.925 loss: 1116.6370263546705\n",
            "epoch 1 total_correct: 56993 train_acc: 94.98833333333333 loss: 564.7087776418775\n",
            "epoch 2 total_correct: 57405 train_acc: 95.675 loss: 484.94715392496437\n",
            "epoch 3 total_correct: 57555 train_acc: 95.925 loss: 467.5541512882337\n",
            "epoch 4 total_correct: 57814 train_acc: 96.35666666666667 loss: 418.7254181718454\n",
            "epoch 5 total_correct: 57777 train_acc: 96.295 loss: 419.2600337318145\n",
            "epoch 6 total_correct: 57857 train_acc: 96.42833333333333 loss: 413.58039489621297\n",
            "epoch 7 total_correct: 57814 train_acc: 96.35666666666667 loss: 426.6177197410725\n",
            "epoch 8 total_correct: 58011 train_acc: 96.685 loss: 381.0123276892118\n",
            "epoch 9 total_correct: 57669 train_acc: 96.115 loss: 456.71365990000777\n"
          ],
          "name": "stdout"
        }
      ]
    },
    {
      "cell_type": "code",
      "metadata": {
        "colab": {
          "base_uri": "https://localhost:8080/",
          "height": 475,
          "referenced_widgets": [
            "3aae3868930c431298369386731194f8",
            "22a44b0d46d84618a8eb8fdb0c509820",
            "11215abd65384a1794c8cd93a77c447d",
            "1f8dabc0091c49f5a3d6eecfea6cd5e4",
            "fd8ae8eb89a14a8ca4c85ebf861880bb",
            "26676320dec04fa0829038b7e9fd94a5",
            "e6061a7b9c57469da4a6ea50884963ea",
            "fe59f484dccb45b4ada2f773a4042bc2",
            "1d96d74b7c8443f794edfa063ce7fef5",
            "5815618c166d4f8e993154f563d1a943",
            "0c0c73e32c6f46578735909fdde4daad",
            "0cc7250a6a3543c5a70a078df3da5d06",
            "95f1730b15264908925bce9833ba92ea",
            "22bd8d03c1854b1fa16ef5d1fd665e04",
            "195fa3250d594e60b765781ab8b43da9",
            "112b032cddb54e8c8b790cf766c7d267"
          ]
        },
        "id": "eBvgjv-rXPSo",
        "outputId": "87d16f40-5b1c-4e97-92a0-54211ea9463a"
      },
      "source": [
        "network = Net()\n",
        "dt = CustomDataset()\n",
        "\n",
        "train_loader = torch.utils.data.DataLoader(dt\n",
        "    ,batch_size=32\n",
        "    ,shuffle=True\n",
        ")\n",
        "\n",
        "optimizer = optim.Adam(network.parameters(), lr=0.01)"
      ],
      "execution_count": 6,
      "outputs": [
        {
          "output_type": "stream",
          "text": [
            "Downloading http://yann.lecun.com/exdb/mnist/train-images-idx3-ubyte.gz\n",
            "Using downloaded and verified file: ./data/MNIST/raw/train-images-idx3-ubyte.gz\n",
            "Extracting ./data/MNIST/raw/train-images-idx3-ubyte.gz to ./data/MNIST/raw\n",
            "\n",
            "Downloading http://yann.lecun.com/exdb/mnist/train-labels-idx1-ubyte.gz\n",
            "Using downloaded and verified file: ./data/MNIST/raw/train-labels-idx1-ubyte.gz\n",
            "Extracting ./data/MNIST/raw/train-labels-idx1-ubyte.gz to ./data/MNIST/raw\n",
            "\n",
            "Downloading http://yann.lecun.com/exdb/mnist/t10k-images-idx3-ubyte.gz\n",
            "Downloading http://yann.lecun.com/exdb/mnist/t10k-images-idx3-ubyte.gz to ./data/MNIST/raw/t10k-images-idx3-ubyte.gz\n"
          ],
          "name": "stdout"
        },
        {
          "output_type": "display_data",
          "data": {
            "application/vnd.jupyter.widget-view+json": {
              "model_id": "3aae3868930c431298369386731194f8",
              "version_minor": 0,
              "version_major": 2
            },
            "text/plain": [
              "HBox(children=(FloatProgress(value=0.0, max=1648877.0), HTML(value='')))"
            ]
          },
          "metadata": {
            "tags": []
          }
        },
        {
          "output_type": "stream",
          "text": [
            "\n",
            "Extracting ./data/MNIST/raw/t10k-images-idx3-ubyte.gz to ./data/MNIST/raw\n",
            "\n",
            "Downloading http://yann.lecun.com/exdb/mnist/t10k-labels-idx1-ubyte.gz\n",
            "Downloading http://yann.lecun.com/exdb/mnist/t10k-labels-idx1-ubyte.gz to ./data/MNIST/raw/t10k-labels-idx1-ubyte.gz\n"
          ],
          "name": "stdout"
        },
        {
          "output_type": "display_data",
          "data": {
            "application/vnd.jupyter.widget-view+json": {
              "model_id": "1d96d74b7c8443f794edfa063ce7fef5",
              "version_minor": 0,
              "version_major": 2
            },
            "text/plain": [
              "HBox(children=(FloatProgress(value=0.0, max=4542.0), HTML(value='')))"
            ]
          },
          "metadata": {
            "tags": []
          }
        },
        {
          "output_type": "stream",
          "text": [
            "\n",
            "Extracting ./data/MNIST/raw/t10k-labels-idx1-ubyte.gz to ./data/MNIST/raw\n",
            "\n",
            "Processing...\n",
            "Done!\n"
          ],
          "name": "stdout"
        },
        {
          "output_type": "stream",
          "text": [
            "/usr/local/lib/python3.7/dist-packages/torchvision/datasets/mnist.py:502: UserWarning: The given NumPy array is not writeable, and PyTorch does not support non-writeable tensors. This means you can write to the underlying (supposedly non-writeable) NumPy array using the tensor. You may want to copy the array to protect its data or make it writeable before converting it to a tensor. This type of warning will be suppressed for the rest of this program. (Triggered internally at  /pytorch/torch/csrc/utils/tensor_numpy.cpp:143.)\n",
            "  return torch.from_numpy(parsed.astype(m[2], copy=False)).view(*s)\n"
          ],
          "name": "stderr"
        }
      ]
    },
    {
      "cell_type": "code",
      "metadata": {
        "colab": {
          "base_uri": "https://localhost:8080/"
        },
        "id": "Gk75-TnVW-zT",
        "outputId": "1668b3e8-1ca9-470f-c98c-2b846321fe33"
      },
      "source": [
        "# TRAINED WITH ADAM OPTIMIZER, NLL LOSS\n",
        "for epoch in range(10):\n",
        "\n",
        "    total_loss = 0\n",
        "    total_correct_mnist = 0\n",
        "    total_correct_sum = 0\n",
        "\n",
        "    for batch in train_loader: # Get Batch\n",
        "        images, ints, labels, sums = batch \n",
        "\n",
        "        preds, pred_sums = network(images, ints) # Pass Batch\n",
        "        loss = F.nll_loss(preds, labels) + F.nll_loss(pred_sums, sums) # Calculate Loss\n",
        "\n",
        "        optimizer.zero_grad()\n",
        "        loss.backward() # Calculate Gradients\n",
        "        optimizer.step() # Update Weights\n",
        "\n",
        "        total_loss += loss.item()\n",
        "        total_correct_mnist += get_num_correct(preds, labels, pred_sums, sums)\n",
        "        # total_correct_sum += get_num_correct(pred_sums, sums)\n",
        "\n",
        "    print(\n",
        "        \"epoch\", epoch, \n",
        "        \"total_correct:\", total_correct_mnist,\n",
        "        \"train_acc (%):\", total_correct_mnist/600, \n",
        "        \"loss:\", total_loss\n",
        "    )"
      ],
      "execution_count": 9,
      "outputs": [
        {
          "output_type": "stream",
          "text": [
            "epoch 0 total_correct: 52216 train_acc (%): 87.02666666666667 loss: 1196.1823298074305\n",
            "epoch 1 total_correct: 56844 train_acc (%): 94.74 loss: 584.6205953862518\n",
            "epoch 2 total_correct: 57206 train_acc (%): 95.34333333333333 loss: 521.1775610516779\n",
            "epoch 3 total_correct: 57325 train_acc (%): 95.54166666666667 loss: 485.4478666591458\n",
            "epoch 4 total_correct: 57441 train_acc (%): 95.735 loss: 475.08763302955776\n",
            "epoch 5 total_correct: 57481 train_acc (%): 95.80166666666666 loss: 452.77352287550457\n",
            "epoch 6 total_correct: 57628 train_acc (%): 96.04666666666667 loss: 439.8011473393999\n",
            "epoch 7 total_correct: 57870 train_acc (%): 96.45 loss: 409.36258122045547\n",
            "epoch 8 total_correct: 57866 train_acc (%): 96.44333333333333 loss: 410.1813166986685\n",
            "epoch 9 total_correct: 57694 train_acc (%): 96.15666666666667 loss: 438.60501672839746\n"
          ],
          "name": "stdout"
        }
      ]
    },
    {
      "cell_type": "code",
      "metadata": {
        "id": "7_2e89d9XdVY"
      },
      "source": [
        "network = Net()\n",
        "dt = CustomDataset()\n",
        "\n",
        "train_loader = torch.utils.data.DataLoader(dt\n",
        "    ,batch_size=32\n",
        "    ,shuffle=True\n",
        ")\n",
        "\n",
        "optimizer = optim.SGD(network.parameters(), lr=0.01, momentum=0.9)"
      ],
      "execution_count": 10,
      "outputs": []
    },
    {
      "cell_type": "code",
      "metadata": {
        "colab": {
          "base_uri": "https://localhost:8080/"
        },
        "id": "r_6TxxpJYmJb",
        "outputId": "fe4bddf7-908b-46b7-c7c6-31206fc494af"
      },
      "source": [
        "# TRAINED WITH SGD OPTIMIZER, NLL LOSS\n",
        "for epoch in range(10):\n",
        "\n",
        "    total_loss = 0\n",
        "    total_correct_mnist = 0\n",
        "    total_correct_sum = 0\n",
        "\n",
        "    for batch in train_loader: # Get Batch\n",
        "        images, ints, labels, sums = batch \n",
        "\n",
        "        preds, pred_sums = network(images, ints) # Pass Batch\n",
        "        loss = F.nll_loss(preds, labels) + F.nll_loss(pred_sums, sums) # Calculate Loss\n",
        "\n",
        "        optimizer.zero_grad()\n",
        "        loss.backward() # Calculate Gradients\n",
        "        optimizer.step() # Update Weights\n",
        "\n",
        "        total_loss += loss.item()\n",
        "        total_correct_mnist += get_num_correct(preds, labels, pred_sums, sums)\n",
        "        # total_correct_sum += get_num_correct(pred_sums, sums)\n",
        "\n",
        "    print(\n",
        "        \"epoch\", epoch, \n",
        "        \"total_correct:\", total_correct_mnist,\n",
        "        \"train_acc (%):\", total_correct_mnist/600, \n",
        "        \"loss:\", total_loss\n",
        "    )"
      ],
      "execution_count": 11,
      "outputs": [
        {
          "output_type": "stream",
          "text": [
            "epoch 0 total_correct: 37821 train_acc (%): 63.035 loss: 2812.0291588939726\n",
            "epoch 1 total_correct: 57053 train_acc (%): 95.08833333333334 loss: 543.0080773606896\n",
            "epoch 2 total_correct: 57933 train_acc (%): 96.555 loss: 405.43888782709837\n",
            "epoch 3 total_correct: 58227 train_acc (%): 97.045 loss: 338.6837383089587\n",
            "epoch 4 total_correct: 58465 train_acc (%): 97.44166666666666 loss: 296.42404373688623\n",
            "epoch 5 total_correct: 58420 train_acc (%): 97.36666666666666 loss: 297.2620654888451\n",
            "epoch 6 total_correct: 58602 train_acc (%): 97.67 loss: 265.6962027081754\n",
            "epoch 7 total_correct: 58656 train_acc (%): 97.76 loss: 246.78087908169255\n",
            "epoch 8 total_correct: 58699 train_acc (%): 97.83166666666666 loss: 240.36291756271385\n",
            "epoch 9 total_correct: 58741 train_acc (%): 97.90166666666667 loss: 228.12640660093166\n"
          ],
          "name": "stdout"
        }
      ]
    },
    {
      "cell_type": "markdown",
      "metadata": {
        "id": "F1LZ5HTjb20u"
      },
      "source": [
        "HIGHEST TRAIN ACCURACY OF 97.9% USING SGD OPTIMIZER, NLL LOSS"
      ]
    }
  ]
}